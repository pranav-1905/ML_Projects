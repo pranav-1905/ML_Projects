{
  "nbformat": 4,
  "nbformat_minor": 0,
  "metadata": {
    "colab": {
      "provenance": []
    },
    "kernelspec": {
      "name": "python3",
      "display_name": "Python 3"
    },
    "language_info": {
      "name": "python"
    }
  },
  "cells": [
    {
      "cell_type": "markdown",
      "source": [
        "Dataset used : https://www.kaggle.com/datasets/saurabhshahane/twitter-sentiment-dataset"
      ],
      "metadata": {
        "id": "dD3TZi71JtJU"
      }
    },
    {
      "cell_type": "code",
      "source": [
        "import nltk\n",
        "import emoji\n",
        "import pandas as pd\n",
        "from nltk.sentiment.vader import SentimentIntensityAnalyzer"
      ],
      "metadata": {
        "id": "DC3wMxuq--mw"
      },
      "execution_count": 41,
      "outputs": []
    },
    {
      "cell_type": "code",
      "source": [
        "# Initialize the sentiment analyzer\n",
        "nltk.download('vader_lexicon')\n",
        "sia = SentimentIntensityAnalyzer()"
      ],
      "metadata": {
        "colab": {
          "base_uri": "https://localhost:8080/"
        },
        "id": "ORiPkvTl-7DF",
        "outputId": "b4be20a1-ec40-45f9-8977-4a274697fef9"
      },
      "execution_count": 42,
      "outputs": [
        {
          "output_type": "stream",
          "name": "stderr",
          "text": [
            "[nltk_data] Downloading package vader_lexicon to /root/nltk_data...\n",
            "[nltk_data]   Package vader_lexicon is already up-to-date!\n"
          ]
        }
      ]
    },
    {
      "cell_type": "code",
      "source": [
        "# Emotion to Emoji mapping\n",
        "emotion_to_emoji = {\n",
        "    'positive': '😄',\n",
        "    'neutral': '😐',\n",
        "    'negative': '😢',\n",
        "    'joy': '😃',\n",
        "    'anger': '😡',\n",
        "    'sadness': '😔',\n",
        "    'surprise': '😲',\n",
        "    'fear': '😨',\n",
        "}"
      ],
      "metadata": {
        "id": "uH9ufFYn_MaO"
      },
      "execution_count": 44,
      "outputs": []
    },
    {
      "cell_type": "code",
      "source": [
        "def detect_emotion(text):\n",
        "    # Analyze sentiment using VADER sentiment analyzer\n",
        "    sentiment_scores = sia.polarity_scores(text)\n",
        "\n",
        "    # Determine emotion based on sentiment scores\n",
        "    if sentiment_scores['compound'] >= 0.05:\n",
        "        return 'positive'\n",
        "    elif sentiment_scores['compound'] <= -0.05:\n",
        "        return 'negative'\n",
        "    else:\n",
        "        return 'neutral'"
      ],
      "metadata": {
        "id": "Cwwlqhlz_N0B"
      },
      "execution_count": 45,
      "outputs": []
    },
    {
      "cell_type": "code",
      "source": [
        "def replace_emotions_with_emojis(text):\n",
        "    # Detect emotion in the text\n",
        "    emotion = detect_emotion(text)\n",
        "\n",
        "    # Replace emotion with emoji\n",
        "    if emotion in emotion_to_emoji:\n",
        "        return text + ' ' + emotion_to_emoji[emotion]\n",
        "    else:\n",
        "        return text"
      ],
      "metadata": {
        "id": "45orQvx5_RlR"
      },
      "execution_count": 46,
      "outputs": []
    },
    {
      "cell_type": "code",
      "source": [
        "# Load your Twitter dataset into a DataFrame\n",
        "# For example, you can load a CSV file with a 'text' column containing tweet text\n",
        "# Replace 'your_dataset.csv' with the actual path to your dataset\n",
        "df = pd.read_csv('/content/Twitter_Data.csv')"
      ],
      "metadata": {
        "id": "HsWnWvJi_XB0"
      },
      "execution_count": 47,
      "outputs": []
    },
    {
      "cell_type": "code",
      "source": [
        "# Handle non-string values in 'clean_text' column by converting them to empty strings\n",
        "df['clean_text'] = df['clean_text'].apply(lambda x: str(x) if isinstance(x, str) else '')"
      ],
      "metadata": {
        "id": "BWye9ac9JUi3"
      },
      "execution_count": 48,
      "outputs": []
    },
    {
      "cell_type": "code",
      "source": [
        "# Apply emotion detection and emoji replacement to each tweet in the dataset\n",
        "df['tweet_with_emoji'] = df['clean_text'].apply(replace_emotions_with_emojis)"
      ],
      "metadata": {
        "id": "cqTZGjzzBabg"
      },
      "execution_count": 49,
      "outputs": []
    },
    {
      "cell_type": "code",
      "source": [
        "# Display the modified dataset with emojis\n",
        "print(df[['clean_text', 'tweet_with_emoji']].head(10).to_markdown(index=False))"
      ],
      "metadata": {
        "colab": {
          "base_uri": "https://localhost:8080/"
        },
        "id": "cO-QfsNlCXJ8",
        "outputId": "d47683bd-dcb8-443d-fc57-66c45322adcf"
      },
      "execution_count": 50,
      "outputs": [
        {
          "output_type": "stream",
          "name": "stdout",
          "text": [
            "| clean_text                                                                                                                                                                                                           | tweet_with_emoji                                                                                                                                                                                                        |\n",
            "|:---------------------------------------------------------------------------------------------------------------------------------------------------------------------------------------------------------------------|:------------------------------------------------------------------------------------------------------------------------------------------------------------------------------------------------------------------------|\n",
            "| when modi promised “minimum government maximum governance” expected him begin the difficult job reforming the state why does take years get justice state should and not business and should exit psus and temples   | when modi promised “minimum government maximum governance” expected him begin the difficult job reforming the state why does take years get justice state should and not business and should exit psus and temples 😄   |\n",
            "| talk all the nonsense and continue all the drama will vote for modi                                                                                                                                                  | talk all the nonsense and continue all the drama will vote for modi  😢                                                                                                                                                 |\n",
            "| what did just say vote for modi  welcome bjp told you rahul the main campaigner for modi think modi should just relax                                                                                                | what did just say vote for modi  welcome bjp told you rahul the main campaigner for modi think modi should just relax 😄                                                                                                |\n",
            "| asking his supporters prefix chowkidar their names modi did great service now there confusion what read what not now crustal clear what will crass filthy nonsensical see how most abuses are coming from chowkidars | asking his supporters prefix chowkidar their names modi did great service now there confusion what read what not now crustal clear what will crass filthy nonsensical see how most abuses are coming from chowkidars 😢 |\n",
            "| answer who among these the most powerful world leader today trump putin modi may                                                                                                                                     | answer who among these the most powerful world leader today trump putin modi may  😄                                                                                                                                    |\n",
            "| kiya tho refresh maarkefir comment karo                                                                                                                                                                              | kiya tho refresh maarkefir comment karo  😐                                                                                                                                                                             |\n",
            "| surat women perform yagna seeks divine grace for narendra modi become again                                                                                                                                          | surat women perform yagna seeks divine grace for narendra modi become again                                                                                                                                             |\n",
            "|                                                                                                                                                                                                                      |  😄                                                                                                                                                                                                                     |\n",
            "| this comes from cabinet which has scholars like modi smriti and hema time introspect                                                                                                                                 | this comes from cabinet which has scholars like modi smriti and hema time introspect 😄                                                                                                                                 |\n",
            "| with upcoming election india saga going important pair look current modi leads govt elected with deal brexit combination this weekly looks juicy bears imho                                                          | with upcoming election india saga going important pair look current modi leads govt elected with deal brexit combination this weekly looks juicy bears imho  😄                                                         |\n",
            "| gandhi was gay does modi                                                                                                                                                                                             | gandhi was gay does modi   😐                                                                                                                                                                                           |\n"
          ]
        }
      ]
    },
    {
      "cell_type": "code",
      "source": [
        "# Display a sample of the modified dataset with emojis, truncating the text to 100 characters\n",
        "sample_size = 10  # Number of tweets to display\n",
        "df_sample = df.sample(sample_size)\n",
        "df_sample['truncated_text'] = df_sample['clean_text'].apply(lambda x: x[:100] + '...' if len(x) > 100 else x)\n",
        "df_sample['tweet_with_emoji'] = df_sample['truncated_text'].apply(replace_emotions_with_emojis)\n"
      ],
      "metadata": {
        "id": "PVSwOy9xKfzP"
      },
      "execution_count": 39,
      "outputs": []
    },
    {
      "cell_type": "code",
      "source": [
        "# Display the truncated dataset with emojis\n",
        "print(df_sample[['truncated_text', 'tweet_with_emoji']].to_markdown(index=False))"
      ],
      "metadata": {
        "colab": {
          "base_uri": "https://localhost:8080/"
        },
        "id": "9aqFGZouKytj",
        "outputId": "d2cf2181-d511-4665-f893-ee56e18212b6"
      },
      "execution_count": 40,
      "outputs": [
        {
          "output_type": "stream",
          "name": "stdout",
          "text": [
            "| truncated_text                                                                                          | tweet_with_emoji                                                                                           |\n",
            "|:--------------------------------------------------------------------------------------------------------|:-----------------------------------------------------------------------------------------------------------|\n",
            "| would less than what modi have spent world tour and self promotional advertisements                     | would less than what modi have spent world tour and self promotional advertisements 😐                     |\n",
            "| invoked the first prime minister the country jawaharlal nehru lampoon after his announcement wednesd... | invoked the first prime minister the country jawaharlal nehru lampoon after his announcement wednesd... 😐 |\n",
            "| ’ biggest failure govt that from last years didn’ change the commi congi mindset social media india ... | ’ biggest failure govt that from last years didn’ change the commi congi mindset social media india ... 😢 |\n",
            "| aur hamare yaha leader cast namm fi8 krwate but still believe modi                                      | aur hamare yaha leader cast namm fi8 krwate but still believe modi  😐                                     |\n",
            "| priyankawhere see and rahuls speeches television because every news channels are covering only modis... | priyankawhere see and rahuls speeches television because every news channels are covering only modis... 😐 |\n",
            "| are having flat discount all our products all require your promise support namo the upcoming electio... | are having flat discount all our products all require your promise support namo the upcoming electio... 😄 |\n",
            "| live congress spokesperson shama mohamed said that mission shakti testament jawaharlal nehrus belief... | live congress spokesperson shama mohamed said that mission shakti testament jawaharlal nehrus belief... 😐 |\n",
            "| not about uniform chowkidar spirit says modi via namo app                                               | not about uniform chowkidar spirit says modi via namo app 😄                                               |\n",
            "| good newswhere strong defensive system modi its company                                                 | good newswhere strong defensive system modi its company 😄                                                 |\n",
            "| obsessed with modi and modibhakts                                                                       | obsessed with modi and modibhakts 😢                                                                       |\n"
          ]
        }
      ]
    }
  ]
}